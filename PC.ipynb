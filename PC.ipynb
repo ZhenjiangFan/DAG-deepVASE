{
 "cells": [
  {
   "cell_type": "code",
   "execution_count": 181,
   "metadata": {},
   "outputs": [],
   "source": [
    "import numpy as np\n",
    "import pandas as pd\n",
    "import networkx as nx\n",
    "import os"
   ]
  },
  {
   "cell_type": "code",
   "execution_count": 198,
   "metadata": {},
   "outputs": [
    {
     "name": "stdout",
     "output_type": "stream",
     "text": [
      "(1000, 201)\n"
     ]
    }
   ],
   "source": [
    "#Load the dataset\n",
    "XY_file_name = \"200p_1000samples_XY.txt\";\n",
    "data_folder_path = \"/ihome/hpark/zhf16/causalDeepVASE/data\";\n",
    "dataset = pd.read_csv(data_folder_path+os.path.sep+XY_file_name,sep=\"\\t\");\n",
    "print(dataset.shape)"
   ]
  },
  {
   "cell_type": "code",
   "execution_count": 199,
   "metadata": {},
   "outputs": [
    {
     "name": "stdout",
     "output_type": "stream",
     "text": [
      "(206, 2)\n",
      "(78, 2)\n"
     ]
    },
    {
     "data": {
      "text/html": [
       "<div>\n",
       "<style scoped>\n",
       "    .dataframe tbody tr th:only-of-type {\n",
       "        vertical-align: middle;\n",
       "    }\n",
       "\n",
       "    .dataframe tbody tr th {\n",
       "        vertical-align: top;\n",
       "    }\n",
       "\n",
       "    .dataframe thead th {\n",
       "        text-align: right;\n",
       "    }\n",
       "</style>\n",
       "<table border=\"1\" class=\"dataframe\">\n",
       "  <thead>\n",
       "    <tr style=\"text-align: right;\">\n",
       "      <th></th>\n",
       "      <th>Feature1</th>\n",
       "      <th>Feature2</th>\n",
       "    </tr>\n",
       "  </thead>\n",
       "  <tbody>\n",
       "    <tr>\n",
       "      <th>0</th>\n",
       "      <td>F1</td>\n",
       "      <td>Y</td>\n",
       "    </tr>\n",
       "  </tbody>\n",
       "</table>\n",
       "</div>"
      ],
      "text/plain": [
       "  Feature1 Feature2\n",
       "0       F1        Y"
      ]
     },
     "execution_count": 199,
     "metadata": {},
     "output_type": "execute_result"
    }
   ],
   "source": [
    "#Load associations\n",
    "MGM_association_file = \"200p_1000samples_XY_MGM_associations.csv\";\n",
    "MGM_associations = pd.read_csv(data_folder_path+os.path.sep+MGM_association_file,index_col=0);\n",
    "print(MGM_associations.shape);\n",
    "DNN_association_file = \"DNN_selected_associations.csv\";\n",
    "DNN_associations = pd.read_csv(data_folder_path+os.path.sep+DNN_association_file,index_col=0);\n",
    "print(DNN_associations.shape);\n",
    "DNN_associations.head(1)"
   ]
  },
  {
   "cell_type": "code",
   "execution_count": 200,
   "metadata": {},
   "outputs": [
    {
     "name": "stdout",
     "output_type": "stream",
     "text": [
      "['Y', 'F1', 'F2', 'F3', 'F4', 'F5', 'F7', 'F9', 'F10']\n",
      "(1000, 9)\n"
     ]
    }
   ],
   "source": [
    "feature_list = [\"Y\"];\n",
    "prior_list =  [\"F1\",\"F2\",\"F3\",\"F4\",\"F5\",\"F6\",\"F7\",\"F8\",\"F9\",\"F10\"];\n",
    "\n",
    "# for index,row in MGM_associations.iterrows():\n",
    "#     f1 = row[\"Feature1\"];\n",
    "#     f2 = row[\"Feature2\"];\n",
    "#     if (f1==\"Y\" and f2 in prior_list) or (f2==\"Y\" and f1 in prior_list):\n",
    "#         if f1 not in feature_list:\n",
    "#             feature_list.append(f1);\n",
    "#         if f2 not in feature_list:\n",
    "#             feature_list.append(f2);\n",
    "# print(len(feature_list));\n",
    "\n",
    "for index,row in DNN_associations.iterrows():\n",
    "    f1 = row[\"Feature1\"];\n",
    "    f2 = row[\"Feature2\"];\n",
    "    if (f1==\"Y\" and f2 in prior_list) or (f2==\"Y\" and f1 in prior_list):\n",
    "        if f1 not in feature_list:\n",
    "            feature_list.append(f1);\n",
    "        if f2 not in feature_list:\n",
    "            feature_list.append(f2);\n",
    "print(feature_list);\n",
    "\n",
    "#Only keep features in the selected associations\n",
    "dataset = dataset[feature_list];\n",
    "print(dataset.shape);"
   ]
  },
  {
   "cell_type": "code",
   "execution_count": 201,
   "metadata": {},
   "outputs": [
    {
     "name": "stdout",
     "output_type": "stream",
     "text": [
      "Name: Y ID: 0\n",
      "Name: F1 ID: 1\n",
      "Name: F2 ID: 2\n",
      "Name: F3 ID: 3\n",
      "Name: F4 ID: 4\n",
      "Name: F5 ID: 5\n",
      "Name: F7 ID: 6\n",
      "Name: F9 ID: 7\n",
      "Name: F10 ID: 8\n"
     ]
    },
    {
     "data": {
      "text/html": [
       "<div>\n",
       "<style scoped>\n",
       "    .dataframe tbody tr th:only-of-type {\n",
       "        vertical-align: middle;\n",
       "    }\n",
       "\n",
       "    .dataframe tbody tr th {\n",
       "        vertical-align: top;\n",
       "    }\n",
       "\n",
       "    .dataframe thead th {\n",
       "        text-align: right;\n",
       "    }\n",
       "</style>\n",
       "<table border=\"1\" class=\"dataframe\">\n",
       "  <thead>\n",
       "    <tr style=\"text-align: right;\">\n",
       "      <th></th>\n",
       "      <th>0</th>\n",
       "      <th>1</th>\n",
       "      <th>2</th>\n",
       "      <th>3</th>\n",
       "      <th>4</th>\n",
       "      <th>5</th>\n",
       "      <th>6</th>\n",
       "      <th>7</th>\n",
       "      <th>8</th>\n",
       "    </tr>\n",
       "  </thead>\n",
       "  <tbody>\n",
       "    <tr>\n",
       "      <th>0</th>\n",
       "      <td>25.982736</td>\n",
       "      <td>-1.204509</td>\n",
       "      <td>0.906381</td>\n",
       "      <td>-0.014023</td>\n",
       "      <td>-2.200692</td>\n",
       "      <td>4.61171</td>\n",
       "      <td>2.963525</td>\n",
       "      <td>2.710397</td>\n",
       "      <td>-4.477634</td>\n",
       "    </tr>\n",
       "  </tbody>\n",
       "</table>\n",
       "</div>"
      ],
      "text/plain": [
       "           0         1         2         3         4        5         6  \\\n",
       "0  25.982736 -1.204509  0.906381 -0.014023 -2.200692  4.61171  2.963525   \n",
       "\n",
       "          7         8  \n",
       "0  2.710397 -4.477634  "
      ]
     },
     "execution_count": 201,
     "metadata": {},
     "output_type": "execute_result"
    }
   ],
   "source": [
    "#Map feature names to their numeric representations\n",
    "fea_name_id_map = {}\n",
    "fea_name_id_map_rev = {}\n",
    "for index, name in enumerate(dataset.columns):\n",
    "    print(\"Name: {} ID: {}\".format(name,index));\n",
    "    fea_name_id_map[name] = index;\n",
    "    fea_name_id_map_rev[index] = name;\n",
    "data_df = dataset.rename(columns=fea_name_id_map);\n",
    "data_df.head(1)"
   ]
  },
  {
   "cell_type": "code",
   "execution_count": 202,
   "metadata": {},
   "outputs": [],
   "source": [
    "#Build a skelaton graph using MGM and DNN associations\n",
    "def build_skeleton_graph():\n",
    "    \n",
    "    skeleton_g = nx.Graph();\n",
    "    \n",
    "#     #Load the undirect graph returned from MGM\n",
    "#     for index,row in MGM_associations.iterrows():\n",
    "#         f1 = row[\"Feature1\"];\n",
    "#         f2 = row[\"Feature2\"];\n",
    "#         if (f1==\"Y\" and f2 in prior_list) or (f2==\"Y\" and f1 in prior_list):\n",
    "#             node1 = fea_name_id_map[f1];\n",
    "#             node2 = fea_name_id_map[f2];\n",
    "#             skeleton_g.add_edge(node1,node2);\n",
    "            \n",
    "    #Load the undirect graph returned from DNN\n",
    "    for index,row in DNN_associations.iterrows():\n",
    "        f1 = row[\"Feature1\"];\n",
    "        f2 = row[\"Feature2\"];\n",
    "        if (f1==\"Y\" and f2 in prior_list) or (f2==\"Y\" and f1 in prior_list):\n",
    "            node1 = fea_name_id_map[f1];\n",
    "            node2 = fea_name_id_map[f2];\n",
    "            skeleton_g.add_edge(node1,node2);\n",
    "            \n",
    "    return skeleton_g;"
   ]
  },
  {
   "cell_type": "code",
   "execution_count": 203,
   "metadata": {},
   "outputs": [],
   "source": [
    "from causal.PC import PC\n",
    "\n",
    "pc = PC(data_df);\n",
    "\n",
    "skeleton_graph = build_skeleton_graph();\n",
    "(g, sep_set) = pc.estimate_skeleton(data_df=data_df, g=skeleton_graph, alpha=0.15);#,method=\"stable\"\n",
    "g = pc.estimate_cpdag(skel_graph=g, sep_set=sep_set)"
   ]
  },
  {
   "cell_type": "code",
   "execution_count": 204,
   "metadata": {},
   "outputs": [
    {
     "name": "stdout",
     "output_type": "stream",
     "text": [
      "8\n"
     ]
    }
   ],
   "source": [
    "fea_name_id_map2 = {y:x for x,y in fea_name_id_map.items()};\n",
    "G = nx.relabel_nodes(g, fea_name_id_map2);\n",
    "\n",
    "edge_list = [];\n",
    "for edge in G.edges():\n",
    "    edge_list.append({\"cause\":edge[0],\"effect\":edge[1]});\n",
    "print(len(edge_list));"
   ]
  },
  {
   "cell_type": "code",
   "execution_count": 205,
   "metadata": {},
   "outputs": [
    {
     "data": {
      "text/html": [
       "<div>\n",
       "<style scoped>\n",
       "    .dataframe tbody tr th:only-of-type {\n",
       "        vertical-align: middle;\n",
       "    }\n",
       "\n",
       "    .dataframe tbody tr th {\n",
       "        vertical-align: top;\n",
       "    }\n",
       "\n",
       "    .dataframe thead th {\n",
       "        text-align: right;\n",
       "    }\n",
       "</style>\n",
       "<table border=\"1\" class=\"dataframe\">\n",
       "  <thead>\n",
       "    <tr style=\"text-align: right;\">\n",
       "      <th></th>\n",
       "      <th>cause</th>\n",
       "      <th>effect</th>\n",
       "    </tr>\n",
       "  </thead>\n",
       "  <tbody>\n",
       "    <tr>\n",
       "      <th>0</th>\n",
       "      <td>F1</td>\n",
       "      <td>Y</td>\n",
       "    </tr>\n",
       "    <tr>\n",
       "      <th>1</th>\n",
       "      <td>Y</td>\n",
       "      <td>F1</td>\n",
       "    </tr>\n",
       "    <tr>\n",
       "      <th>2</th>\n",
       "      <td>Y</td>\n",
       "      <td>F2</td>\n",
       "    </tr>\n",
       "    <tr>\n",
       "      <th>3</th>\n",
       "      <td>Y</td>\n",
       "      <td>F3</td>\n",
       "    </tr>\n",
       "    <tr>\n",
       "      <th>4</th>\n",
       "      <td>Y</td>\n",
       "      <td>F4</td>\n",
       "    </tr>\n",
       "    <tr>\n",
       "      <th>5</th>\n",
       "      <td>F2</td>\n",
       "      <td>Y</td>\n",
       "    </tr>\n",
       "    <tr>\n",
       "      <th>6</th>\n",
       "      <td>F3</td>\n",
       "      <td>Y</td>\n",
       "    </tr>\n",
       "    <tr>\n",
       "      <th>7</th>\n",
       "      <td>F4</td>\n",
       "      <td>Y</td>\n",
       "    </tr>\n",
       "  </tbody>\n",
       "</table>\n",
       "</div>"
      ],
      "text/plain": [
       "  cause effect\n",
       "0    F1      Y\n",
       "1     Y     F1\n",
       "2     Y     F2\n",
       "3     Y     F3\n",
       "4     Y     F4\n",
       "5    F2      Y\n",
       "6    F3      Y\n",
       "7    F4      Y"
      ]
     },
     "execution_count": 205,
     "metadata": {},
     "output_type": "execute_result"
    }
   ],
   "source": [
    "pd.DataFrame(data=edge_list)#.to_csv(\"PC_result_on_DeepPINK_MGM_p\"+str(p)+\"_v4.csv\")"
   ]
  }
 ],
 "metadata": {
  "kernelspec": {
   "display_name": "env36",
   "language": "python",
   "name": "env36"
  },
  "language_info": {
   "codemirror_mode": {
    "name": "ipython",
    "version": 3
   },
   "file_extension": ".py",
   "mimetype": "text/x-python",
   "name": "python",
   "nbconvert_exporter": "python",
   "pygments_lexer": "ipython3",
   "version": "3.7.10"
  }
 },
 "nbformat": 4,
 "nbformat_minor": 2
}

{
 "cells": [
  {
   "cell_type": "code",
   "execution_count": 9,
   "metadata": {},
   "outputs": [],
   "source": [
    "import networkx as nx\n",
    "\n",
    "G = nx.DiGraph();\n",
    "G.add_edge(1, 2, weight=4.7);\n",
    "G.add_edge(2, 3, weight=4.6);\n",
    "G.add_edge(3, 4, weight=4.5);\n",
    "G.add_edge(3, 5, weight=4.1);\n",
    "G.add_edge(5, 1, weight=4.0);\n",
    "\n",
    "\n",
    "list(nx.simple_cycles(G));"
   ]
  },
  {
   "cell_type": "code",
   "execution_count": 10,
   "metadata": {},
   "outputs": [
    {
     "name": "stdout",
     "output_type": "stream",
     "text": [
      "[(1, 2), (2, 3), (3, 4), (3, 5), (5, 1)]\n",
      "4.7\n",
      "4.6\n",
      "4.1\n",
      "4.0\n",
      "[(1, 2), (2, 3), (3, 4), (3, 5)]\n"
     ]
    }
   ],
   "source": [
    "print(G.edges());\n",
    "cycyles = list(nx.simple_cycles(G));\n",
    "for cycle in cycyles:\n",
    "    source_node = cycle[0];\n",
    "    target_node_index = 1;\n",
    "    \n",
    "    marked_source_node = \"\";\n",
    "    marked_target_node = \"\";\n",
    "    marked_weight = 0;\n",
    "    \n",
    "    while (target_node_index<len(cycle)):\n",
    "        target_node = cycle[target_node_index];\n",
    "        weight = G.get_edge_data(source_node,target_node)['weight'];\n",
    "        print(weight);\n",
    "        if (marked_source_node ==\"\" and marked_target_node==\"\") or marked_weight<weight:\n",
    "            marked_weight = weight;\n",
    "            marked_source_node = source_node;\n",
    "            marked_target_node = target_node;\n",
    "            \n",
    "        source_node = target_node;\n",
    "        target_node_index=target_node_index+1;\n",
    "    target_node = cycle[0];\n",
    "    weight = G.get_edge_data(source_node,target_node)['weight'];\n",
    "    print(weight);\n",
    "    if marked_weight<weight:\n",
    "            marked_weight = weight;\n",
    "            marked_source_node = source_node;\n",
    "            marked_target_node = target_node;\n",
    "    #Delete the node with smallest weight\n",
    "    G.remove_edge(source_node,target_node);\n",
    "print(G.edges());\n",
    "    "
   ]
  },
  {
   "cell_type": "code",
   "execution_count": null,
   "metadata": {},
   "outputs": [],
   "source": []
  }
 ],
 "metadata": {
  "kernelspec": {
   "display_name": "Python 3",
   "language": "python",
   "name": "python3"
  },
  "language_info": {
   "codemirror_mode": {
    "name": "ipython",
    "version": 3
   },
   "file_extension": ".py",
   "mimetype": "text/x-python",
   "name": "python",
   "nbconvert_exporter": "python",
   "pygments_lexer": "ipython3",
   "version": "3.7.6"
  }
 },
 "nbformat": 4,
 "nbformat_minor": 4
}
